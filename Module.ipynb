{
  "nbformat": 4,
  "nbformat_minor": 0,
  "metadata": {
    "colab": {
      "provenance": [],
      "mount_file_id": "1JS9JeB6ArtHZKXD2_6LiCoWZUdJAtWvj",
      "authorship_tag": "ABX9TyNTvm3DflDLgclq+fwwJ7vO",
      "include_colab_link": true
    },
    "kernelspec": {
      "name": "python3",
      "display_name": "Python 3"
    },
    "language_info": {
      "name": "python"
    }
  },
  "cells": [
    {
      "cell_type": "markdown",
      "metadata": {
        "id": "view-in-github",
        "colab_type": "text"
      },
      "source": [
        "<a href=\"https://colab.research.google.com/github/Nanyongacode6/skills-introduction-to-github/blob/main/Module.ipynb\" target=\"_parent\"><img src=\"https://colab.research.google.com/assets/colab-badge.svg\" alt=\"Open In Colab\"/></a>"
      ]
    },
    {
      "cell_type": "code",
      "execution_count": 2,
      "metadata": {
        "colab": {
          "base_uri": "https://localhost:8080/"
        },
        "id": "GorFBv6I4gTG",
        "outputId": "ed8c77d0-0bed-4826-8db0-2af93283223f"
      },
      "outputs": [
        {
          "output_type": "stream",
          "name": "stdout",
          "text": [
            "nanyonga datascience\n"
          ]
        }
      ],
      "source": [
        "print(\"nanyonga datascience\")"
      ]
    },
    {
      "cell_type": "markdown",
      "source": [
        "introduction to data science\n"
      ],
      "metadata": {
        "id": "sUtK_MBb7AJd"
      }
    }
  ]
}